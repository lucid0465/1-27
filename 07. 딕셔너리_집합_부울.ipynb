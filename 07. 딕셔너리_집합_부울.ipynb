{
 "cells": [
  {
   "cell_type": "markdown",
   "id": "1e6bdae8",
   "metadata": {},
   "source": [
    "## [참고] 인덱싱/슬라이싱 추가예제"
   ]
  },
  {
   "cell_type": "code",
   "execution_count": null,
   "id": "ecbe6d07",
   "metadata": {},
   "outputs": [],
   "source": [
    "a = \"Hello, Python!!\""
   ]
  },
  {
   "cell_type": "code",
   "execution_count": 5,
   "id": "e5ebd18f",
   "metadata": {},
   "outputs": [
    {
     "data": {
      "text/plain": [
       "'ython!'"
      ]
     },
     "execution_count": 5,
     "metadata": {},
     "output_type": "execute_result"
    }
   ],
   "source": [
    "a[7:13:1]"
   ]
  },
  {
   "cell_type": "code",
   "execution_count": 6,
   "id": "4c1c6c33",
   "metadata": {},
   "outputs": [
    {
     "data": {
      "text/plain": [
       "'ytho'"
      ]
     },
     "execution_count": 6,
     "metadata": {},
     "output_type": "execute_result"
    }
   ],
   "source": [
    "a[7:-2]"
   ]
  },
  {
   "cell_type": "code",
   "execution_count": null,
   "id": "84eb12c5",
   "metadata": {},
   "outputs": [],
   "source": [
    "a[-8:13]"
   ]
  },
  {
   "cell_type": "code",
   "execution_count": null,
   "id": "4e7700f0",
   "metadata": {},
   "outputs": [],
   "source": [
    "a[-8:-2]"
   ]
  },
  {
   "cell_type": "code",
   "execution_count": null,
   "id": "db0b5823",
   "metadata": {},
   "outputs": [],
   "source": [
    "a[-6:13]"
   ]
  },
  {
   "cell_type": "code",
   "execution_count": null,
   "id": "d24e8af5",
   "metadata": {},
   "outputs": [],
   "source": [
    "a[-6:13:-1]"
   ]
  },
  {
   "cell_type": "code",
   "execution_count": null,
   "id": "2cb945e7",
   "metadata": {},
   "outputs": [],
   "source": [
    "a[13:-6:-1]"
   ]
  },
  {
   "cell_type": "code",
   "execution_count": null,
   "id": "9eb4576f",
   "metadata": {},
   "outputs": [],
   "source": [
    "a[12:6:-1]"
   ]
  },
  {
   "cell_type": "code",
   "execution_count": null,
   "id": "e97f11da",
   "metadata": {},
   "outputs": [],
   "source": [
    "a[12:-9:-2]"
   ]
  },
  {
   "cell_type": "markdown",
   "id": "579531bc",
   "metadata": {},
   "source": [
    "## 1. 딕셔너리"
   ]
  },
  {
   "cell_type": "markdown",
   "id": "af057f31",
   "metadata": {},
   "source": [
    "### 1) 딕셔너리 생성"
   ]
  },
  {
   "cell_type": "code",
   "execution_count": 25,
   "id": "cd6f6576",
   "metadata": {},
   "outputs": [
    {
     "name": "stdout",
     "output_type": "stream",
     "text": [
      "{'name': 'LEE', 'age': 30, 'addr': '서울 강남구'}\n",
      "{'name': 'LEE', 'age': 30, 'addr': '서울 강남구'}\n",
      "------------------------------------------------\n",
      "['name', 'age', 'addr']\n",
      "['LEE', 30, '서울 강남구']\n",
      "------------------------------------------------\n",
      "{'name': 'LEE', 'age': 30, 'addr': '서울 강남구'}\n"
     ]
    }
   ],
   "source": [
    "#빈 딕셔너리 생성\n",
    "dict_blank = dict()\n",
    "\n",
    "# 딕셔너리 생성\n",
    "dict_a = {\"name\":\"LEE\", \"age\":30, \"addr\":\"서울 강남구\"}\n",
    "print(dict_a)\n",
    "\n",
    "# dict함수를 사용하여 딕셔너리 생성\n",
    "dict_b = dict(name=\"LEE\", age=30, addr=\"서울 강남구\")\n",
    "print(dict_b)\n",
    "\n",
    "# zip 함수를 사용하여 딕셔너리 생성\n",
    "print(\"------------------------------------------------\")\n",
    "keys = [\"name\", \"age\", \"addr\"]\n",
    "print(keys)\n",
    "\n",
    "values = [\"LEE\", 30, \"서울 강남구\"]\n",
    "print(values)\n",
    "print(\"------------------------------------------------\")\n",
    "dict_c = (dict(zip(keys, values)))\n",
    "print(dict_c)\n",
    "\n"
   ]
  },
  {
   "cell_type": "markdown",
   "id": "a3c369b7",
   "metadata": {},
   "source": [
    "### 2) 딕셔너리 검색 / 추가 / 수정 / 삭제 / 정렬"
   ]
  },
  {
   "cell_type": "code",
   "execution_count": 28,
   "id": "f54dcf64",
   "metadata": {},
   "outputs": [
    {
     "name": "stdout",
     "output_type": "stream",
     "text": [
      "LEE 30 서울 강남구\n"
     ]
    }
   ],
   "source": [
    "# 검색\n",
    "print(dict_a[\"name\"], dict_a[\"age\"], dict_a[\"addr\"])"
   ]
  },
  {
   "cell_type": "code",
   "execution_count": 31,
   "id": "4e57d464",
   "metadata": {},
   "outputs": [
    {
     "name": "stdout",
     "output_type": "stream",
     "text": [
      "{'name': 'LEE', 'age': 30, 'addr': '서울 강남구', 'email': 'LEE@test.kdt.com'}\n",
      "{'name': 'KANG', 'age': 30, 'addr': '서울 강남구', 'email': 'LEE@test.kdt.com'}\n"
     ]
    }
   ],
   "source": [
    "# 추가 / 수정 \n",
    "dict_a[\"email\"] = \"LEE@test.kdt.com\"\n",
    "print(dict_a)\n",
    "\n",
    "dict_a[\"name\"] = \"KANG\"\n",
    "print(dict_a)"
   ]
  },
  {
   "cell_type": "code",
   "execution_count": 43,
   "id": "5e4e29d4",
   "metadata": {},
   "outputs": [
    {
     "name": "stdout",
     "output_type": "stream",
     "text": [
      "{'name': 'LEE', 'age': 30, 'addr': '서울 강남구'}\n",
      "{'age': 30, 'addr': '서울 강남구'}\n",
      "{'addr': '서울 강남구'}\n"
     ]
    }
   ],
   "source": [
    "#삭제\n",
    "dict_a = {\"name\":\"LEE\", \"age\":30, \"addr\":\"서울 강남구\"}\n",
    "print(dict_a)\n",
    "del dict_a[\"name\"]\n",
    "print(dict_a)\n",
    "\n",
    "del(dict_a[\"age\"])\n",
    "print(dict_a)"
   ]
  },
  {
   "cell_type": "markdown",
   "id": "ceedd3f8",
   "metadata": {},
   "source": [
    "### 3) 딕셔너리 메서드"
   ]
  },
  {
   "cell_type": "code",
   "execution_count": 48,
   "id": "f1f252a3",
   "metadata": {},
   "outputs": [
    {
     "name": "stdout",
     "output_type": "stream",
     "text": [
      "LEE\n",
      "email 값이 없습니다\n"
     ]
    }
   ],
   "source": [
    "# get\n",
    "dict_a = {\"name\":\"LEE\", \"age\":30, \"addr\":\"서울 강남구\"}\n",
    "\n",
    "print(dict_a.get(\"name\"))\n",
    "print(dict_a.get(\"test\", \"email 값이 없습니다\"))\n",
    "\n",
    "#print(dict_a[\"name\"])\n",
    "#print(dict_a[\"test\"])\n"
   ]
  },
  {
   "cell_type": "code",
   "execution_count": 58,
   "id": "6dde4773",
   "metadata": {},
   "outputs": [
    {
     "name": "stdout",
     "output_type": "stream",
     "text": [
      "dict_keys(['name', 'age', 'addr'])\n",
      "dict_values(['LEE', 30, '서울 강남구'])\n",
      "dict_items([('name', 'LEE'), ('age', 30), ('addr', '서울 강남구')])\n"
     ]
    }
   ],
   "source": [
    "# keys, values, items\n",
    "print(dict_a.keys())\n",
    "print(dict_a.values())\n",
    "print(dict_a.items())\n",
    "\n",
    "    "
   ]
  },
  {
   "cell_type": "code",
   "execution_count": 62,
   "id": "01e798b9",
   "metadata": {},
   "outputs": [
    {
     "name": "stdout",
     "output_type": "stream",
     "text": [
      "dict_a :  {'name': 'LEE', 'age': 30}\n",
      "dict_b :  {'addr': '서울 강남구', 'email': 'LEE@test.kdt.com'}\n",
      "dict_a :  {'name': 'LEE', 'age': 30, 'addr': '서울 강남구', 'email': 'LEE@test.kdt.com'}\n",
      "dict_a : {'name': 'LEE', 'age': 100, 'addr': '서울 강남구', 'email': 'LEE@test.kdt.com'}\n"
     ]
    }
   ],
   "source": [
    "# update\n",
    "dict_a = {\"name\":\"LEE\", \"age\":30}\n",
    "dict_b = {'addr':'서울 강남구','email':'LEE@test.kdt.com'}\n",
    "dict_c = {\"age\":100}\n",
    "\n",
    "print(\"dict_a : \", dict_a)\n",
    "print(\"dict_b : \", dict_b)\n",
    "\n",
    "dict_a.update(dict_b)\n",
    "print(\"dict_a : \", dict_a)\n",
    "\n",
    "dict_a.update(dict_c)\n",
    "print(\"dict_a :\",dict_a)"
   ]
  },
  {
   "cell_type": "code",
   "execution_count": 67,
   "id": "78507443",
   "metadata": {},
   "outputs": [
    {
     "name": "stdout",
     "output_type": "stream",
     "text": [
      "{}\n",
      "<class 'tuple'>\n",
      "(('a', '1'), ('b', '2'), ('c', '3'))\n",
      "<class 'dict'>\n",
      "<class 'dict'>\n",
      "{'a': '1', 'b': '2', 'c': '3'}\n"
     ]
    }
   ],
   "source": [
    "# clear, dict\n",
    "dict_c.clear()\n",
    "print(dict_c)\n",
    "\n",
    "a = ((\"a\",\"1\"), (\"b\", \"2\"), (\"c\", \"3\"))\n",
    "print(type(a))\n",
    "print(a)\n",
    "\n",
    "print(type(dict(a)))\n",
    "\n",
    "print(type(dict(a)))\n",
    "\n",
    "print(dict(a))"
   ]
  },
  {
   "cell_type": "code",
   "execution_count": 71,
   "id": "bbe73ff8",
   "metadata": {},
   "outputs": [
    {
     "name": "stdout",
     "output_type": "stream",
     "text": [
      "{'name': 'LEE', 'age': 100, 'addr': '서울 강남구', 'email': 'LEE@test.kdt.com'}\n",
      "True\n"
     ]
    }
   ],
   "source": [
    "# in, not in\n",
    "print(dict_a)\n",
    "print(\"name\" in dict_a)\n",
    "\n"
   ]
  },
  {
   "cell_type": "code",
   "execution_count": 77,
   "id": "56d4c4f8",
   "metadata": {},
   "outputs": [
    {
     "ename": "SyntaxError",
     "evalue": "expected ':' (4121065542.py, line 3)",
     "output_type": "error",
     "traceback": [
      "\u001b[1;36m  Cell \u001b[1;32mIn[77], line 3\u001b[1;36m\u001b[0m\n\u001b[1;33m    if \"card\" in dict_a\u001b[0m\n\u001b[1;37m                       ^\u001b[0m\n\u001b[1;31mSyntaxError\u001b[0m\u001b[1;31m:\u001b[0m expected ':'\n"
     ]
    }
   ],
   "source": [
    "a = [\"card\", \"money\"]\n"
   ]
  },
  {
   "cell_type": "markdown",
   "id": "b95cbedd",
   "metadata": {},
   "source": [
    "### 2. 집합"
   ]
  },
  {
   "cell_type": "code",
   "execution_count": 85,
   "id": "218d4835",
   "metadata": {},
   "outputs": [
    {
     "name": "stdout",
     "output_type": "stream",
     "text": [
      "<class 'set'>\n",
      "set()\n",
      "{'a', 'e', 'c', 'b', 'd'}\n",
      "{1, 2, 3, 4, 5}\n",
      "{'e', 't', ',', 'y', 'n', 'p', 'o', 'l', 'h', ' '}\n"
     ]
    }
   ],
   "source": [
    "# 빈 set생성하기 \n",
    "c = set()\n",
    "print(type(c))\n",
    "print(c)\n",
    "\n",
    "# set 생성\n",
    "a = {\"a\", \"b\", \"c\", \"d\", \"e\"}\n",
    "print(a)\n",
    "\n",
    "# list, tuple -> 변환\n",
    "\n",
    "a = [1, 2, 3, 4, 5, 3, 4, 5]\n",
    "print(set(a))\n",
    "\n",
    "# 문자열 -> 변환\n",
    "b = \"hello, python\"\n",
    "print(set(b))\n"
   ]
  },
  {
   "cell_type": "code",
   "execution_count": 91,
   "id": "400b1b8c",
   "metadata": {},
   "outputs": [
    {
     "name": "stdout",
     "output_type": "stream",
     "text": [
      "{'a', 'e', 'c', 'b', 'z', 'd'}\n",
      "{'a', 1, 2, 3, 4, 5, 'e', 'b', 'z', 'c', 'd'}\n",
      "{'a', 1, 2, 4, 5, 'e', 'b', 'z', 'c', 'd'}\n"
     ]
    }
   ],
   "source": [
    "# set 메서드 : add, update, remove\n",
    "a = {\"a\", \"b\", \"c\", \"d\", \"e\"}\n",
    "b = [1,2,3,4,5,1,2,3]\n",
    "\n",
    "a.add(\"z\")\n",
    "print(a)\n",
    "\n",
    "a.update(b)\n",
    "print(a)\n",
    "\n",
    "a.remove(3)\n",
    "print(a)"
   ]
  },
  {
   "cell_type": "code",
   "execution_count": 102,
   "id": "01cd8198",
   "metadata": {},
   "outputs": [
    {
     "name": "stdout",
     "output_type": "stream",
     "text": [
      "{'C', 'A', 'B', 'D'}\n",
      "{'C', 'B'}\n",
      "{'C', 'A', 'B', 'D'}\n",
      "{'C', 'B'}\n",
      "{'A'} {'D'}\n",
      "{'A', 'D'}\n",
      "False\n",
      "False\n",
      "True\n",
      "True\n"
     ]
    }
   ],
   "source": [
    "# set 연산 : / 합집합, & 교집합, - 차집합, ^배타적차집합, ,<= 부분집합, >= 상위집합\n",
    "\n",
    "a = {\"A\",\"B\",\"C\"}\n",
    "b = {\"B\",\"C\",\"D\"}\n",
    "\n",
    "print(a.union(b))\n",
    "print(a.intersection(b))\n",
    "\n",
    "print(a | b)\n",
    "print(a & b)\n",
    "print(a - b, b - a)\n",
    "print(a ^ b)\n",
    "print(a <= b)\n",
    "print(a >= b)\n",
    "\n",
    "c =  {1, 2, 3, 4, 5}\n",
    "d =  {2, 3, 4}\n",
    "print(c >= d)\n",
    "print(d <= c)"
   ]
  },
  {
   "cell_type": "markdown",
   "id": "f19e2d83",
   "metadata": {},
   "source": [
    "## 3. 부울"
   ]
  },
  {
   "cell_type": "code",
   "execution_count": 103,
   "id": "ca3fa1d1",
   "metadata": {},
   "outputs": [
    {
     "name": "stdout",
     "output_type": "stream",
     "text": [
      "True False\n",
      "<class 'bool'> <class 'bool'>\n"
     ]
    }
   ],
   "source": [
    "# 부울 선언\n",
    "\n",
    "a = True\n",
    "b = False\n",
    "\n",
    "print(a, b)\n",
    "print(type(a), type(b))"
   ]
  },
  {
   "cell_type": "code",
   "execution_count": 105,
   "id": "5595b7dd",
   "metadata": {},
   "outputs": [
    {
     "name": "stdout",
     "output_type": "stream",
     "text": [
      "False\n",
      "True\n"
     ]
    }
   ],
   "source": [
    "# 조건문 반환\n",
    "a = 1\n",
    "b = 2\n",
    "print(a==b)\n",
    "print(b > a)"
   ]
  },
  {
   "cell_type": "code",
   "execution_count": 107,
   "id": "e50b3c22",
   "metadata": {},
   "outputs": [
    {
     "name": "stdout",
     "output_type": "stream",
     "text": [
      "True\n",
      "False\n",
      "True\n",
      "False\n",
      "True\n",
      "False\n"
     ]
    }
   ],
   "source": [
    "# bool 메서드\n",
    "print(bool(\"abc\"))\n",
    "print(bool(\"\"))\n",
    "print(bool([1,2,3]))\n",
    "print(bool([]))\n",
    "print(bool(3))\n",
    "print(bool(0))\n",
    "\n",
    "print(bool(-3))\n",
    "print(bool)"
   ]
  },
  {
   "cell_type": "code",
   "execution_count": null,
   "id": "c2091c99",
   "metadata": {},
   "outputs": [],
   "source": []
  },
  {
   "cell_type": "markdown",
   "id": "8291b08b",
   "metadata": {},
   "source": [
    "### zip 함수 예제"
   ]
  },
  {
   "cell_type": "code",
   "execution_count": 35,
   "id": "4ee8a931",
   "metadata": {},
   "outputs": [
    {
     "name": "stdout",
     "output_type": "stream",
     "text": [
      "<class 'dict'>\n",
      "{'name': 'LEE', 'age': 30, 'addr': '서울 강남구'}\n"
     ]
    }
   ],
   "source": [
    "# zip 함수를 사용하여 딕셔너리 생성\n",
    "keys = [\"name\", \"age\", \"addr\"]\n",
    "values = [\"LEE\", 30, \"서울 강남구\"]\n",
    "\n",
    "a =dict(zip(keys, values))\n",
    "print(type(a))\n",
    "print(a)"
   ]
  },
  {
   "cell_type": "code",
   "execution_count": 36,
   "id": "c4bc7cd4",
   "metadata": {},
   "outputs": [
    {
     "name": "stdout",
     "output_type": "stream",
     "text": [
      "<class 'zip'>\n",
      "<zip object at 0x0000020150B24F80>\n",
      "[('name', 'LEE', 'aa'), ('age', 30, 'bb')]\n"
     ]
    }
   ],
   "source": [
    "keys = (\"name\", \"age\")\n",
    "values = (\"LEE\", 30, \"서울 강남구\")\n",
    "etc = (\"aa\", \"bb\", \"cc\")\n",
    "\n",
    "a = zip(keys, values, etc)\n",
    "print(type(a))\n",
    "print(a)\n",
    "print(list(a))\n"
   ]
  },
  {
   "cell_type": "code",
   "execution_count": null,
   "id": "d4d33be6",
   "metadata": {},
   "outputs": [],
   "source": []
  },
  {
   "cell_type": "code",
   "execution_count": null,
   "id": "79e2849a",
   "metadata": {},
   "outputs": [],
   "source": []
  },
  {
   "cell_type": "code",
   "execution_count": null,
   "id": "fdc46ad2",
   "metadata": {},
   "outputs": [],
   "source": []
  },
  {
   "cell_type": "code",
   "execution_count": null,
   "id": "ebd2c512",
   "metadata": {},
   "outputs": [],
   "source": []
  }
 ],
 "metadata": {
  "kernelspec": {
   "display_name": "Python 3 (ipykernel)",
   "language": "python",
   "name": "python3"
  },
  "language_info": {
   "codemirror_mode": {
    "name": "ipython",
    "version": 3
   },
   "file_extension": ".py",
   "mimetype": "text/x-python",
   "name": "python",
   "nbconvert_exporter": "python",
   "pygments_lexer": "ipython3",
   "version": "3.10.6"
  }
 },
 "nbformat": 4,
 "nbformat_minor": 5
}
